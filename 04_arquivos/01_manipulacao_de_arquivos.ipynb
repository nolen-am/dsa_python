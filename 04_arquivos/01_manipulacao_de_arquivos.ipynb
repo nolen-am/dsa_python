{
 "cells": [
  {
   "cell_type": "markdown",
   "id": "556b56fa",
   "metadata": {},
   "source": [
    "# Manipulação de Arquivos - Parte 1"
   ]
  },
  {
   "cell_type": "markdown",
   "id": "eeb84b2f",
   "metadata": {},
   "source": [
    "## Lendo Arquivos"
   ]
  },
  {
   "cell_type": "code",
   "execution_count": null,
   "id": "632be3f1",
   "metadata": {},
   "outputs": [],
   "source": [
    "# Abrindo o arquivo para leitura\n",
    "arq1 = open(\"arquivos/arquivo1.txt\", \"r\") # r = read"
   ]
  },
  {
   "cell_type": "code",
   "execution_count": null,
   "id": "31490770",
   "metadata": {},
   "outputs": [],
   "source": [
    "type(arq1)"
   ]
  },
  {
   "cell_type": "code",
   "execution_count": null,
   "id": "28bba9df",
   "metadata": {},
   "outputs": [],
   "source": [
    "# Lendo o arquivo\n",
    "# Quando utilizamos o método de leitura, ao final do processamento, o cursor ficará posicionado no final do arquivo\n",
    "# Isso faz com que seja necessário posicionarmos o cursor no início novamente se houver necessidade de reprocessar as informações\n",
    "print(arq1.read())"
   ]
  },
  {
   "cell_type": "code",
   "execution_count": null,
   "id": "18be438e",
   "metadata": {},
   "outputs": [],
   "source": [
    "# Contar o número de caracteres\n",
    "print(arq1.tell())"
   ]
  },
  {
   "cell_type": "code",
   "execution_count": null,
   "id": "6faea6fd",
   "metadata": {},
   "outputs": [],
   "source": [
    "# Retornar para o início do arquivo\n",
    "print(arq1.seek(0, 0))"
   ]
  },
  {
   "cell_type": "code",
   "execution_count": null,
   "id": "cb8284a8",
   "metadata": {},
   "outputs": [],
   "source": [
    "# Lendo os primeiros 23 caracteres\n",
    "print(arq1.read(23))"
   ]
  },
  {
   "cell_type": "markdown",
   "id": "633e3ac3",
   "metadata": {},
   "source": [
    "## Gravando Arquivos"
   ]
  },
  {
   "cell_type": "code",
   "execution_count": null,
   "id": "09330ec2",
   "metadata": {},
   "outputs": [],
   "source": [
    "# Abrindo arquivo para gravação\n",
    "arq2 = open(\"arquivos/arquivos2.txt\", \"w\") # w = write"
   ]
  },
  {
   "cell_type": "code",
   "execution_count": null,
   "id": "07cc0ef9",
   "metadata": {},
   "outputs": [],
   "source": [
    "# Como abrimos o arquivo apenas para gravação, não podemos usar comandos de leitura\n",
    "print(arq2.read())"
   ]
  },
  {
   "cell_type": "code",
   "execution_count": null,
   "id": "014a3133",
   "metadata": {},
   "outputs": [],
   "source": [
    "# Gravando arquivo\n",
    "arq2.write(\"Aprendendo a programar em Python.\")"
   ]
  },
  {
   "cell_type": "code",
   "execution_count": null,
   "id": "f7c46b9e",
   "metadata": {},
   "outputs": [],
   "source": [
    "arq2.close()"
   ]
  },
  {
   "cell_type": "code",
   "execution_count": null,
   "id": "0922a73d",
   "metadata": {},
   "outputs": [],
   "source": [
    "# Lendo arquivo gravado\n",
    "arq2 = open(\"arquivos/arquivo2.txt\", \"r\")"
   ]
  },
  {
   "cell_type": "code",
   "execution_count": null,
   "id": "7d365a67",
   "metadata": {},
   "outputs": [],
   "source": [
    "print(arq2.read())"
   ]
  },
  {
   "cell_type": "code",
   "execution_count": null,
   "id": "78fcaa89",
   "metadata": {},
   "outputs": [],
   "source": [
    "# Acrescentando conteúdo\n",
    "arq2 = open(\"arquivos/arquivos2.txt\", \"a\") # a = append"
   ]
  },
  {
   "cell_type": "code",
   "execution_count": null,
   "id": "9460a71a",
   "metadata": {},
   "outputs": [],
   "source": [
    "arq2.write(\" E a metodologia de ensino da Data Science Academy facilita o aprendizado.\")"
   ]
  },
  {
   "cell_type": "code",
   "execution_count": null,
   "id": "f288ef06",
   "metadata": {},
   "outputs": [],
   "source": [
    "arq2.close()"
   ]
  },
  {
   "cell_type": "code",
   "execution_count": null,
   "id": "7bfd78fb",
   "metadata": {},
   "outputs": [],
   "source": [
    "arq2 = open(\"arquivos/arquivo2.txt\", \"r\")"
   ]
  },
  {
   "cell_type": "code",
   "execution_count": null,
   "id": "5fd870c5",
   "metadata": {},
   "outputs": [],
   "source": [
    "print(arq2.read())"
   ]
  },
  {
   "cell_type": "code",
   "execution_count": null,
   "id": "ecb13f41",
   "metadata": {},
   "outputs": [],
   "source": [
    "# Retornando ao início do arquivo para leitura\n",
    "arq2.seek(0, 0)"
   ]
  },
  {
   "cell_type": "code",
   "execution_count": null,
   "id": "a68e9ab2",
   "metadata": {},
   "outputs": [],
   "source": [
    "print(arq2.read())"
   ]
  },
  {
   "cell_type": "markdown",
   "id": "d6cc7497",
   "metadata": {},
   "source": [
    "## Abrindo Dataset em Linha Única"
   ]
  },
  {
   "cell_type": "markdown",
   "id": "e908ab9c",
   "metadata": {},
   "source": [
    "Este arquivo abaixo foi obtido no site de dados abertos do governo da cidade de Chicago, nos EUA:\n",
    "\n",
    "https://data.cityofchicago.org/"
   ]
  },
  {
   "cell_type": "code",
   "execution_count": null,
   "id": "55e0f87e",
   "metadata": {},
   "outputs": [],
   "source": [
    "f = open('arquivos/salarios.csv', 'r')"
   ]
  },
  {
   "cell_type": "code",
   "execution_count": null,
   "id": "4f9bd4b9",
   "metadata": {},
   "outputs": [],
   "source": [
    "data = f.read()"
   ]
  },
  {
   "cell_type": "code",
   "execution_count": null,
   "id": "b71d97d7",
   "metadata": {},
   "outputs": [],
   "source": [
    "rows = data.split('\\n')"
   ]
  },
  {
   "cell_type": "code",
   "execution_count": null,
   "id": "e45d7bf6",
   "metadata": {},
   "outputs": [],
   "source": [
    "print(rows)"
   ]
  },
  {
   "cell_type": "markdown",
   "id": "7413b43a",
   "metadata": {},
   "source": [
    "## Dividindo um Arquivo em Colunas"
   ]
  },
  {
   "cell_type": "code",
   "execution_count": null,
   "id": "4f68ed46",
   "metadata": {},
   "outputs": [],
   "source": [
    "f = open('arquivos/salarios.csv', 'r')"
   ]
  },
  {
   "cell_type": "code",
   "execution_count": null,
   "id": "10f0f637",
   "metadata": {},
   "outputs": [],
   "source": [
    "data = f.read()"
   ]
  },
  {
   "cell_type": "code",
   "execution_count": null,
   "id": "04326470",
   "metadata": {},
   "outputs": [],
   "source": [
    "rows = data.split('\\n')"
   ]
  },
  {
   "cell_type": "code",
   "execution_count": null,
   "id": "e1ca2b86",
   "metadata": {},
   "outputs": [],
   "source": [
    "full_data = []"
   ]
  },
  {
   "cell_type": "code",
   "execution_count": null,
   "id": "dab1e582",
   "metadata": {},
   "outputs": [],
   "source": [
    "for row in rows:\n",
    "    split_row = row.split(\",\")\n",
    "    full_data.append(split_row)"
   ]
  },
  {
   "cell_type": "code",
   "execution_count": null,
   "id": "47a33702",
   "metadata": {},
   "outputs": [],
   "source": [
    "print(full_data)"
   ]
  },
  {
   "cell_type": "markdown",
   "id": "e16b4295",
   "metadata": {},
   "source": [
    "## Contando as Linhas de Um Arquivo"
   ]
  },
  {
   "cell_type": "code",
   "execution_count": null,
   "id": "a7ac3086",
   "metadata": {},
   "outputs": [],
   "source": [
    "f = open('arquivos/salarios.csv', 'r')"
   ]
  },
  {
   "cell_type": "code",
   "execution_count": null,
   "id": "7fe9306a",
   "metadata": {},
   "outputs": [],
   "source": [
    "data = f.read()"
   ]
  },
  {
   "cell_type": "code",
   "execution_count": null,
   "id": "8d2681bf",
   "metadata": {},
   "outputs": [],
   "source": [
    "rows = data.split('\\n')"
   ]
  },
  {
   "cell_type": "code",
   "execution_count": null,
   "id": "71cf34c7",
   "metadata": {},
   "outputs": [],
   "source": [
    "full_data = []"
   ]
  },
  {
   "cell_type": "code",
   "execution_count": null,
   "id": "f63e5161",
   "metadata": {},
   "outputs": [],
   "source": [
    "for row in rows:\n",
    "    split_row = row.split(\",\")\n",
    "    full_data.append(split_row)"
   ]
  },
  {
   "cell_type": "code",
   "execution_count": null,
   "id": "372ac195",
   "metadata": {},
   "outputs": [],
   "source": [
    "count = 0\n",
    "for row in full_data:\n",
    "    count += 1"
   ]
  },
  {
   "cell_type": "code",
   "execution_count": null,
   "id": "502cdad5",
   "metadata": {},
   "outputs": [],
   "source": [
    "print(count)"
   ]
  },
  {
   "cell_type": "markdown",
   "id": "8620c69f",
   "metadata": {},
   "source": [
    "## Contando o Número de Colunas de Um Arquivo"
   ]
  },
  {
   "cell_type": "code",
   "execution_count": null,
   "id": "e0c2c418",
   "metadata": {},
   "outputs": [],
   "source": [
    "f = open('arquivos/salarios.csv', 'r')\n",
    "data = f.read()\n",
    "rows = data.split('\\n')\n",
    "full_data = []"
   ]
  },
  {
   "cell_type": "code",
   "execution_count": null,
   "id": "4d7a04c8",
   "metadata": {},
   "outputs": [],
   "source": [
    "for row in rows:\n",
    "    split_row = row.split(\",\")\n",
    "    full_data.append(split_row)\n",
    "    first_row = full_data[0]\n",
    "count = 0"
   ]
  },
  {
   "cell_type": "code",
   "execution_count": null,
   "id": "f5e6b2f2",
   "metadata": {},
   "outputs": [],
   "source": [
    "for column in first_row:\n",
    "    count += 1\n",
    "\n",
    "# Outra solução possível:\n",
    "# for column in full_data[0]:\n",
    "#     count += 1"
   ]
  },
  {
   "cell_type": "code",
   "execution_count": null,
   "id": "53f01b3d",
   "metadata": {},
   "outputs": [],
   "source": [
    "print(count)"
   ]
  },
  {
   "cell_type": "markdown",
   "id": "7e0d6a53",
   "metadata": {},
   "source": [
    "## Gravando Arquivo Pelo Jupyter Notebook"
   ]
  },
  {
   "cell_type": "code",
   "execution_count": null,
   "id": "cdd70ac3",
   "metadata": {},
   "outputs": [],
   "source": [
    "%%writefile arquivos/arquivo3.txt\n",
    "Este arquivo foi gerado pelo Jupyter Notebook\n",
    "Podemos gerar quantas linhas quisermos e o Jupyter grava no arquivo final."
   ]
  },
  {
   "cell_type": "code",
   "execution_count": null,
   "id": "33dfe18e",
   "metadata": {},
   "outputs": [],
   "source": [
    "arq3 = open('arquivos/arquivo3.txt', 'r')"
   ]
  },
  {
   "cell_type": "code",
   "execution_count": null,
   "id": "4bbd8502",
   "metadata": {},
   "outputs": [],
   "source": [
    "arq3.read()"
   ]
  },
  {
   "cell_type": "code",
   "execution_count": null,
   "id": "fcb45d9a",
   "metadata": {},
   "outputs": [],
   "source": [
    "# Estamos no final do arquivo e não há mais nada para ler\n",
    "arq3.read()"
   ]
  },
  {
   "cell_type": "code",
   "execution_count": null,
   "id": "3c7f87cf",
   "metadata": {},
   "outputs": [],
   "source": [
    "# Retornando ao início do arquivo\n",
    "arq3.seek(0)"
   ]
  },
  {
   "cell_type": "code",
   "execution_count": null,
   "id": "5b214281",
   "metadata": {},
   "outputs": [],
   "source": [
    "arq3.seek(0)\n",
    "arq3.readlines()"
   ]
  },
  {
   "cell_type": "code",
   "execution_count": null,
   "id": "ce85d2b7",
   "metadata": {},
   "outputs": [],
   "source": [
    "# Podemos usar um loop for para ler o arquivo\n",
    "for line in open('arquivos/arquivo3.txt'):\n",
    "    print(line)"
   ]
  },
  {
   "cell_type": "markdown",
   "id": "792bedcb",
   "metadata": {},
   "source": [
    "## Importando um Dataset com Pandas"
   ]
  },
  {
   "cell_type": "code",
   "execution_count": 1,
   "id": "280610c5",
   "metadata": {},
   "outputs": [],
   "source": [
    "import pandas as pd"
   ]
  },
  {
   "cell_type": "code",
   "execution_count": 2,
   "id": "ef6cecf2",
   "metadata": {},
   "outputs": [
    {
     "data": {
      "text/plain": [
       "'1.5.3'"
      ]
     },
     "execution_count": 2,
     "metadata": {},
     "output_type": "execute_result"
    }
   ],
   "source": [
    "pd.__version__"
   ]
  },
  {
   "cell_type": "code",
   "execution_count": 3,
   "id": "c81c4804",
   "metadata": {},
   "outputs": [],
   "source": [
    "arquivo = \"arquivos/salarios.csv\""
   ]
  },
  {
   "cell_type": "code",
   "execution_count": 4,
   "id": "b6ee16ac",
   "metadata": {},
   "outputs": [],
   "source": [
    "df = pd.read_csv(arquivo)"
   ]
  },
  {
   "cell_type": "code",
   "execution_count": 8,
   "id": "1aecc921",
   "metadata": {},
   "outputs": [
    {
     "data": {
      "text/html": [
       "<div>\n",
       "<style scoped>\n",
       "    .dataframe tbody tr th:only-of-type {\n",
       "        vertical-align: middle;\n",
       "    }\n",
       "\n",
       "    .dataframe tbody tr th {\n",
       "        vertical-align: top;\n",
       "    }\n",
       "\n",
       "    .dataframe thead th {\n",
       "        text-align: right;\n",
       "    }\n",
       "</style>\n",
       "<table border=\"1\" class=\"dataframe\">\n",
       "  <thead>\n",
       "    <tr style=\"text-align: right;\">\n",
       "      <th></th>\n",
       "      <th>Name</th>\n",
       "      <th>Position Title</th>\n",
       "      <th>Department</th>\n",
       "      <th>Employee Annual Salary</th>\n",
       "    </tr>\n",
       "  </thead>\n",
       "  <tbody>\n",
       "    <tr>\n",
       "      <th>0</th>\n",
       "      <td>AARON,  ELVIA J</td>\n",
       "      <td>WATER RATE TAKER</td>\n",
       "      <td>WATER MGMNT</td>\n",
       "      <td>$88967.00</td>\n",
       "    </tr>\n",
       "    <tr>\n",
       "      <th>1</th>\n",
       "      <td>AARON,  JEFFERY M</td>\n",
       "      <td>POLICE OFFICER</td>\n",
       "      <td>POLICE</td>\n",
       "      <td>$80778.00</td>\n",
       "    </tr>\n",
       "    <tr>\n",
       "      <th>2</th>\n",
       "      <td>AARON,  KARINA</td>\n",
       "      <td>POLICE OFFICER</td>\n",
       "      <td>POLICE</td>\n",
       "      <td>$80778.00</td>\n",
       "    </tr>\n",
       "    <tr>\n",
       "      <th>3</th>\n",
       "      <td>AARON,  KIMBERLEI R</td>\n",
       "      <td>CHIEF CONTRACT EXPEDITER</td>\n",
       "      <td>GENERAL SERVICES</td>\n",
       "      <td>$84780.00</td>\n",
       "    </tr>\n",
       "    <tr>\n",
       "      <th>4</th>\n",
       "      <td>ABAD JR,  VICENTE M</td>\n",
       "      <td>CIVIL ENGINEER IV</td>\n",
       "      <td>WATER MGMNT</td>\n",
       "      <td>$104736.00</td>\n",
       "    </tr>\n",
       "  </tbody>\n",
       "</table>\n",
       "</div>"
      ],
      "text/plain": [
       "                  Name            Position Title        Department  \\\n",
       "0      AARON,  ELVIA J          WATER RATE TAKER       WATER MGMNT   \n",
       "1    AARON,  JEFFERY M            POLICE OFFICER            POLICE   \n",
       "2       AARON,  KARINA            POLICE OFFICER            POLICE   \n",
       "3  AARON,  KIMBERLEI R  CHIEF CONTRACT EXPEDITER  GENERAL SERVICES   \n",
       "4  ABAD JR,  VICENTE M         CIVIL ENGINEER IV       WATER MGMNT   \n",
       "\n",
       "  Employee Annual Salary  \n",
       "0              $88967.00  \n",
       "1              $80778.00  \n",
       "2              $80778.00  \n",
       "3              $84780.00  \n",
       "4             $104736.00  "
      ]
     },
     "execution_count": 8,
     "metadata": {},
     "output_type": "execute_result"
    }
   ],
   "source": [
    "df.head()"
   ]
  },
  {
   "cell_type": "code",
   "execution_count": 9,
   "id": "d2010396",
   "metadata": {},
   "outputs": [
    {
     "data": {
      "text/plain": [
       "POLICE OFFICER                            9489\n",
       "FIREFIGHTER-EMT                           1191\n",
       "SERGEANT                                  1138\n",
       "FIREFIGHTER                                970\n",
       "POLICE OFFICER (ASSIGNED AS DETECTIVE)     808\n",
       "                                          ... \n",
       "FOREMAN OF WINDOW WASHERS                    1\n",
       "SUPVSR OF INFORMATION SERVICES               1\n",
       "MANAGER OF TAX POLICY                        1\n",
       "FOREMAN OF ARCHITECTURAL IRON WORKERS        1\n",
       "MECHANICAL ENGINEER IV                       1\n",
       "Name: Position Title, Length: 1094, dtype: int64"
      ]
     },
     "execution_count": 9,
     "metadata": {},
     "output_type": "execute_result"
    }
   ],
   "source": [
    "df['Position Title'].value_counts()"
   ]
  },
  {
   "cell_type": "code",
   "execution_count": null,
   "id": "df27b3d5",
   "metadata": {},
   "outputs": [],
   "source": []
  }
 ],
 "metadata": {
  "kernelspec": {
   "display_name": "Python 3 (ipykernel)",
   "language": "python",
   "name": "python3"
  },
  "language_info": {
   "codemirror_mode": {
    "name": "ipython",
    "version": 3
   },
   "file_extension": ".py",
   "mimetype": "text/x-python",
   "name": "python",
   "nbconvert_exporter": "python",
   "pygments_lexer": "ipython3",
   "version": "3.11.4"
  }
 },
 "nbformat": 4,
 "nbformat_minor": 5
}
