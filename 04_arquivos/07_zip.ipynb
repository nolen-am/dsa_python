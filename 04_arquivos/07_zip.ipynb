{
 "cells": [
  {
   "cell_type": "markdown",
   "id": "943b93ec",
   "metadata": {},
   "source": [
    "# Função Zip"
   ]
  },
  {
   "cell_type": "markdown",
   "id": "08686613",
   "metadata": {},
   "source": [
    "A função zip() em Python é uma função que agrupa elementos de múltiplas estruturas de dados iteráveis (como listas, tuplas ou outros objetos iteráveis) juntos em pares. A função zip() retorna um objeto zip, que pode ser convertido em outra estrutura de dados, como uma lista ou dicionário, se necessário."
   ]
  },
  {
   "cell_type": "code",
   "execution_count": 9,
   "id": "3cca938b",
   "metadata": {},
   "outputs": [],
   "source": [
    "# Criando duas listas\n",
    "x = [1, 2, 3]\n",
    "y = [4, 5, 6]"
   ]
  },
  {
   "cell_type": "code",
   "execution_count": 10,
   "id": "68feca93",
   "metadata": {},
   "outputs": [
    {
     "data": {
      "text/plain": [
       "<zip at 0x13717f27700>"
      ]
     },
     "execution_count": 10,
     "metadata": {},
     "output_type": "execute_result"
    }
   ],
   "source": [
    "# Unindo as listas. Em python 3 retorna um iterator\n",
    "zip(x, y)"
   ]
  },
  {
   "cell_type": "code",
   "execution_count": 12,
   "id": "e031c4b0",
   "metadata": {},
   "outputs": [
    {
     "data": {
      "text/plain": [
       "[(1, 4), (2, 5), (3, 6)]"
      ]
     },
     "execution_count": 12,
     "metadata": {},
     "output_type": "execute_result"
    }
   ],
   "source": [
    "# Perceba que zip retorna tuplas. Neste caso, uma lista de tuplas\n",
    "list(zip(x, y))"
   ]
  },
  {
   "cell_type": "code",
   "execution_count": 13,
   "id": "796926c2",
   "metadata": {},
   "outputs": [
    {
     "data": {
      "text/plain": [
       "[('A', 'x'), ('B', 'y')]"
      ]
     },
     "execution_count": 13,
     "metadata": {},
     "output_type": "execute_result"
    }
   ],
   "source": [
    "# Atenção quando as sequências tiverem número diferente de elementos\n",
    "list(zip('ABCD', 'xy'))"
   ]
  },
  {
   "cell_type": "code",
   "execution_count": 14,
   "id": "919aaf91",
   "metadata": {},
   "outputs": [],
   "source": [
    "# Criando duas listas\n",
    "a = [1, 2, 3]\n",
    "b = [4, 5, 6, 7, 8]"
   ]
  },
  {
   "cell_type": "code",
   "execution_count": 15,
   "id": "82055dbf",
   "metadata": {},
   "outputs": [
    {
     "data": {
      "text/plain": [
       "[(1, 4), (2, 5), (3, 6)]"
      ]
     },
     "execution_count": 15,
     "metadata": {},
     "output_type": "execute_result"
    }
   ],
   "source": [
    "list(zip(a, b))"
   ]
  },
  {
   "cell_type": "code",
   "execution_count": 17,
   "id": "bfbad6ea",
   "metadata": {},
   "outputs": [],
   "source": [
    "# Criando 2 dicionários\n",
    "d1 = {'a': 1, 'b': 2}\n",
    "d2 = {'c': 4, 'd': 5}"
   ]
  },
  {
   "cell_type": "code",
   "execution_count": 18,
   "id": "e69cec44",
   "metadata": {},
   "outputs": [
    {
     "data": {
      "text/plain": [
       "[('a', 'c'), ('b', 'd')]"
      ]
     },
     "execution_count": 18,
     "metadata": {},
     "output_type": "execute_result"
    }
   ],
   "source": [
    "# Zip vai unir as chaves\n",
    "list(zip(d1, d2))"
   ]
  },
  {
   "cell_type": "code",
   "execution_count": 19,
   "id": "fc517901",
   "metadata": {},
   "outputs": [
    {
     "data": {
      "text/plain": [
       "[('a', 4), ('b', 5)]"
      ]
     },
     "execution_count": 19,
     "metadata": {},
     "output_type": "execute_result"
    }
   ],
   "source": [
    "# Zip pode unir os valores (itens)\n",
    "list(zip(d1, d2.values()))"
   ]
  },
  {
   "cell_type": "code",
   "execution_count": 20,
   "id": "183bf8fb",
   "metadata": {},
   "outputs": [],
   "source": [
    "# Criando uma função para trocar valores entre 2 dicionários\n",
    "def trocaValores(d1, d2):\n",
    "    dicTemp = {}\n",
    "    \n",
    "    for d1key, d2val in zip(d1, d2.values()):\n",
    "        dicTemp[d1key] = d2val\n",
    "    return dicTemp"
   ]
  },
  {
   "cell_type": "code",
   "execution_count": 21,
   "id": "e1698627",
   "metadata": {},
   "outputs": [
    {
     "data": {
      "text/plain": [
       "{'a': 4, 'b': 5}"
      ]
     },
     "execution_count": 21,
     "metadata": {},
     "output_type": "execute_result"
    }
   ],
   "source": [
    "trocaValores(d1, d2)"
   ]
  },
  {
   "cell_type": "code",
   "execution_count": null,
   "id": "4ead30f0",
   "metadata": {},
   "outputs": [],
   "source": []
  }
 ],
 "metadata": {
  "kernelspec": {
   "display_name": "Python 3 (ipykernel)",
   "language": "python",
   "name": "python3"
  },
  "language_info": {
   "codemirror_mode": {
    "name": "ipython",
    "version": 3
   },
   "file_extension": ".py",
   "mimetype": "text/x-python",
   "name": "python",
   "nbconvert_exporter": "python",
   "pygments_lexer": "ipython3",
   "version": "3.11.4"
  }
 },
 "nbformat": 4,
 "nbformat_minor": 5
}
