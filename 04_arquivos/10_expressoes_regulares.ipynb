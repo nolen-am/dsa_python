{
 "cells": [
  {
   "cell_type": "markdown",
   "id": "434616ce",
   "metadata": {},
   "source": [
    "# Expressões Regulares"
   ]
  },
  {
   "cell_type": "markdown",
   "id": "aa1b035a",
   "metadata": {},
   "source": [
    "Expressões regulares são padrões usados pra combinar ou encontrar ocorrências de sequências de caracteres em uma string. Em Python, expressões regulares são geralmente usadas para manipular strings e realizar tarefas como validação de entrada de dados, extração de informações de strings e substituição de texto."
   ]
  },
  {
   "cell_type": "code",
   "execution_count": 1,
   "id": "3bc57ddd",
   "metadata": {},
   "outputs": [],
   "source": [
    "import re"
   ]
  },
  {
   "cell_type": "code",
   "execution_count": 2,
   "id": "dbdfb01a",
   "metadata": {},
   "outputs": [],
   "source": [
    "texto = \"Meu e-mail é exemplo@gmail.com e você pode me contatar em outro_email@yahoo.com.\""
   ]
  },
  {
   "cell_type": "code",
   "execution_count": 3,
   "id": "3cd5166b",
   "metadata": {},
   "outputs": [],
   "source": [
    "# Expressão regular para contar quantas vezes o caracter arroba aparece no texto\n",
    "resultado = len(re.findall(\"@\", texto))"
   ]
  },
  {
   "cell_type": "code",
   "execution_count": 4,
   "id": "3694e520",
   "metadata": {},
   "outputs": [
    {
     "name": "stdout",
     "output_type": "stream",
     "text": [
      "O caractere '@' apareceu 2 vezes no texto.\n"
     ]
    }
   ],
   "source": [
    "print(\"O caractere '@' apareceu\", resultado, \"vezes no texto.\")"
   ]
  },
  {
   "cell_type": "code",
   "execution_count": 5,
   "id": "d95b86e0",
   "metadata": {},
   "outputs": [],
   "source": [
    "# Expressão regular para extrair a palavra que aparece após a palavra \"você\" em um texto\n",
    "resultado = re.findall(r'você (\\w+)', texto)"
   ]
  },
  {
   "cell_type": "code",
   "execution_count": 7,
   "id": "7ae5c08b",
   "metadata": {},
   "outputs": [
    {
     "name": "stdout",
     "output_type": "stream",
     "text": [
      "A palavra após 'você' é: pode\n"
     ]
    }
   ],
   "source": [
    "print(\"A palavra após 'você' é:\", resultado[0])"
   ]
  },
  {
   "cell_type": "markdown",
   "id": "011cc815",
   "metadata": {},
   "source": [
    "Nota: O r antes da string que representa a expressão regular em Python é usado para indicar que a string é uma string literal raw. Isso significa que as barras invertidas () não são interpretadas como caracteres de escape, mas são incluídas na expressão regular como parte do padrão."
   ]
  },
  {
   "cell_type": "code",
   "execution_count": 9,
   "id": "b0dc0506",
   "metadata": {},
   "outputs": [],
   "source": [
    "# Expressão regular para extrair endereços de e-mail de uma string\n",
    "emails = re.findall(r'\\b[A-Za-z0-9._%+-]+@[A-Za-z0-9.-]+\\.[A-Z|a-z]{2,}\\b', texto)"
   ]
  },
  {
   "cell_type": "code",
   "execution_count": 10,
   "id": "888e823e",
   "metadata": {},
   "outputs": [
    {
     "name": "stdout",
     "output_type": "stream",
     "text": [
      "['exemplo@gmail.com', 'outro_email@yahoo.com']\n"
     ]
    }
   ],
   "source": [
    "print(emails)"
   ]
  },
  {
   "cell_type": "markdown",
   "id": "9302d78a",
   "metadata": {},
   "source": [
    "https://docs.python.org/3.9/library/re.html"
   ]
  },
  {
   "cell_type": "code",
   "execution_count": 11,
   "id": "3817746f",
   "metadata": {},
   "outputs": [],
   "source": [
    "text = \"O aluno estava incrivelmente perdido, mas encontrou a DSA e rapidamente começou a aprender.\""
   ]
  },
  {
   "cell_type": "code",
   "execution_count": 12,
   "id": "54992573",
   "metadata": {},
   "outputs": [
    {
     "name": "stdout",
     "output_type": "stream",
     "text": [
      "15-28: incrivelmente\n",
      "60-71: rapidamente\n"
     ]
    }
   ],
   "source": [
    "# Extraindo os advérbios da frase\n",
    "for m in re.finditer(r\"\\w+mente\\b\", text):\n",
    "    print('%02d-%02d: %s' % (m.start(), m.end(), m.group(0)))"
   ]
  },
  {
   "cell_type": "markdown",
   "id": "4612da2f",
   "metadata": {},
   "source": [
    "## REGEX com ChatGPT"
   ]
  },
  {
   "cell_type": "markdown",
   "id": "c5d82368",
   "metadata": {},
   "source": [
    "Música:"
   ]
  },
  {
   "cell_type": "code",
   "execution_count": 13,
   "id": "48c2df08",
   "metadata": {},
   "outputs": [],
   "source": [
    "# Variável do tipo string\n",
    "# ''' aspas simples formam uma docstring, formato que permite atribuir uma string a uma variável em varias linhas\n",
    "musica = '''\n",
    "Um belo sonho veio então despertar minha vontade\n",
    "Tudo vale a pena pra te encontrar\n",
    "Me livrei de tudo aquilo e consegui mudar\n",
    "Tudo que foi feito em troca de uma amizade\n",
    "Mas felicidade é poder estar com quem\n",
    "Você gosta em algum lugar\n",
    "É foda ser louco advogado do mundo\n",
    "Mas, como tudo deve ser\n",
    "É foda ser tachado de doido\n",
    "Vagabundo mas, como tudo deve ser\n",
    "Foi quando te encontrei\n",
    "Ouvindo o som e olhando o mar\n",
    "Foi quando te encontrei\n",
    "Ouvindo o som do mar rolar\n",
    "Eu não nasci ontem, bem quando e como por onde mais\n",
    "Como tudo deve ser\n",
    "Com as balizas do nosso sistema\n",
    "Sigo imprimindo meu sonho na história\n",
    "Como tudo deve ser\n",
    "Um belo sonho veio então despertar minha vontade\n",
    "Tudo vale a pena pra te reencontrar\n",
    "Me livrei de tudo aquilo e consegui mudar\n",
    "Tudo que foi feito em troca de uma amizade mas\n",
    "Foi quando te encontrei\n",
    "Ouvindo o som e olhando o mar\n",
    "Foi quando te encontrei\n",
    "Ouvindo o som do mar rolar\n",
    "Eu não preciso de promessas\n",
    "E acho que você também,\n",
    "Eu não tento ser perfeito\n",
    "E acho que você também\n",
    "Dias e noites, pensando no que fiz\n",
    "Eu sou um vencedor\n",
    "Eu lutei pelo o que eu quis\n",
    "Mas quando não se pode mais mudar tanta coisa errada\n",
    "Vamos viver os nossos sonhos\n",
    "Temos tão pouco tempo\n",
    "Foi quando te encontrei\n",
    "Ouvindo o som e olhando o mar\n",
    "Foi quando te encontrei\n",
    "Ouvindo o som do mar rolar\n",
    "Foi quando te encontrei,\n",
    "Ouvindo o som e olhando o mar\n",
    "Foi quando te encontrei\n",
    "Ouvindo o som do mar rolar\n",
    "Foi quando te encontrei,\n",
    "Ouvindo o som e olhando o mar\n",
    "Ouvindo o som o mar rolar\n",
    "O mar\n",
    "'''"
   ]
  },
  {
   "cell_type": "code",
   "execution_count": 14,
   "id": "4592acad",
   "metadata": {},
   "outputs": [
    {
     "name": "stdout",
     "output_type": "stream",
     "text": [
      "\n",
      "Um belo sonho veio então despertar minha vontade\n",
      "Tudo vale a pena pra te encontrar\n",
      "Me livrei de tudo aquilo e consegui mudar\n",
      "Tudo que foi feito em troca de uma amizade\n",
      "Mas felicidade é poder estar com quem\n",
      "Você gosta em algum lugar\n",
      "É foda ser louco advogado do mundo\n",
      "Mas, como tudo deve ser\n",
      "É foda ser tachado de doido\n",
      "Vagabundo mas, como tudo deve ser\n",
      "Foi quando te encontrei\n",
      "Ouvindo o som e olhando o mar\n",
      "Foi quando te encontrei\n",
      "Ouvindo o som do mar rolar\n",
      "Eu não nasci ontem, bem quando e como por onde mais\n",
      "Como tudo deve ser\n",
      "Com as balizas do nosso sistema\n",
      "Sigo imprimindo meu sonho na história\n",
      "Como tudo deve ser\n",
      "Um belo sonho veio então despertar minha vontade\n",
      "Tudo vale a pena pra te reencontrar\n",
      "Me livrei de tudo aquilo e consegui mudar\n",
      "Tudo que foi feito em troca de uma amizade mas\n",
      "Foi quando te encontrei\n",
      "Ouvindo o som e olhando o mar\n",
      "Foi quando te encontrei\n",
      "Ouvindo o som do mar rolar\n",
      "Eu não preciso de promessas\n",
      "E acho que você também,\n",
      "Eu não tento ser perfeito\n",
      "E acho que você também\n",
      "Dias e noites, pensando no que fiz\n",
      "Eu sou um vencedor\n",
      "Eu lutei pelo o que eu quis\n",
      "Mas quando não se pode mais mudar tanta coisa errada\n",
      "Vamos viver os nossos sonhos\n",
      "Temos tão pouco tempo\n",
      "Foi quando te encontrei\n",
      "Ouvindo o som e olhando o mar\n",
      "Foi quando te encontrei\n",
      "Ouvindo o som do mar rolar\n",
      "Foi quando te encontrei,\n",
      "Ouvindo o som e olhando o mar\n",
      "Foi quando te encontrei\n",
      "Ouvindo o som do mar rolar\n",
      "Foi quando te encontrei,\n",
      "Ouvindo o som e olhando o mar\n",
      "Ouvindo o som o mar rolar\n",
      "O mar\n",
      "\n"
     ]
    }
   ],
   "source": [
    "print(musica)"
   ]
  },
  {
   "cell_type": "code",
   "execution_count": 16,
   "id": "bfc23206",
   "metadata": {},
   "outputs": [],
   "source": [
    "# 1- Crie um REGEX para contar quantas vezes o caracter \"a\" aparece em todo o texto da música.\n",
    "# 2- Crie um REGEX em Python para contar quantas vezes a palavra mar aparece na música\n",
    "# 3- Crie um REGEX em Python para extrair as palavras seguidas por virgula\n",
    "# 4- Crie um REGEX que retorne as palavras com acento, mas somente os caracteres na palavra que são anteriores ao caracter acentuado\n"
   ]
  },
  {
   "cell_type": "code",
   "execution_count": 17,
   "id": "3ecebd2d",
   "metadata": {},
   "outputs": [
    {
     "name": "stdout",
     "output_type": "stream",
     "text": [
      "O caractere 'a' aparece 101 vezes no texto.\n"
     ]
    }
   ],
   "source": [
    "# 1- Crie um REGEX para contar quantas vezes o caracter \"a\" aparece em todo o texto da música.\n",
    "match = re.findall(\"a\", musica)\n",
    "count = len(match)\n",
    "\n",
    "print(\"O caractere 'a' aparece\", count, \"vezes no texto.\")"
   ]
  },
  {
   "cell_type": "code",
   "execution_count": 19,
   "id": "b466aaeb",
   "metadata": {},
   "outputs": [
    {
     "name": "stdout",
     "output_type": "stream",
     "text": [
      "A palavra 'mar' aparece 11 vezes no texto.\n"
     ]
    }
   ],
   "source": [
    "# 2- Crie um REGEX em Python para contar quantas vezes a palavra mar aparece na música\n",
    "palavra = \"mar\"\n",
    "\n",
    "ocorrencias = re.findall(r'\\b' + re.escape(palavra) + r'\\b', musica, re.IGNORECASE)\n",
    "\n",
    "contagem = len(ocorrencias)\n",
    "\n",
    "print(f\"A palavra '{palavra}' aparece {contagem} vezes no texto.\")"
   ]
  },
  {
   "cell_type": "code",
   "execution_count": 20,
   "id": "51a9e9be",
   "metadata": {},
   "outputs": [
    {
     "name": "stdout",
     "output_type": "stream",
     "text": [
      "Palavras seguidas por vírgula:\n",
      "Mas\n",
      "mas\n",
      "ontem\n",
      "também\n",
      "noites\n",
      "encontrei\n",
      "encontrei\n"
     ]
    }
   ],
   "source": [
    "# 3- Crie um REGEX em Python para extrair as palavras seguidas por virgula\n",
    "# Usando a função findall para encontrar todas as palavras seguidas por vírgula\n",
    "palavras_com_virgula = re.findall(r'\\w+,', musica)\n",
    "\n",
    "# Removendo as vírgulas das palavras extraídas\n",
    "palavras_sem_virgula = [palavra.rstrip(',') for palavra in palavras_com_virgula]\n",
    "\n",
    "print(\"Palavras seguidas por vírgula:\")\n",
    "for palavra in palavras_sem_virgula:\n",
    "    print(palavra)"
   ]
  },
  {
   "cell_type": "code",
   "execution_count": 23,
   "id": "0818f179",
   "metadata": {},
   "outputs": [
    {
     "name": "stdout",
     "output_type": "stream",
     "text": [
      "ent\n",
      "Voc\n",
      "n\n",
      "hist\n",
      "ent\n",
      "n\n",
      "voc\n",
      "tamb\n",
      "n\n",
      "voc\n",
      "tamb\n",
      "n\n",
      "t\n"
     ]
    }
   ],
   "source": [
    "# 4- Crie um REGEX que retorne as palavras com acento, mas somente os caracteres na palavra que são anteriores ao caracter acentuado\n",
    "\n",
    "# Usando a função findall para encontrar palavras com acentos\n",
    "palavras_com_acentos = re.findall(r'\\b\\w+(?=[áàâãéèêíïóôõöúüç])', musica, re.IGNORECASE)\n",
    "\n",
    "# Imprimindo as palavras encontradas\n",
    "for palavra in palavras_com_acentos:\n",
    "    print(palavra)\n"
   ]
  },
  {
   "cell_type": "code",
   "execution_count": null,
   "id": "a3766adf",
   "metadata": {},
   "outputs": [],
   "source": []
  }
 ],
 "metadata": {
  "kernelspec": {
   "display_name": "Python 3 (ipykernel)",
   "language": "python",
   "name": "python3"
  },
  "language_info": {
   "codemirror_mode": {
    "name": "ipython",
    "version": 3
   },
   "file_extension": ".py",
   "mimetype": "text/x-python",
   "name": "python",
   "nbconvert_exporter": "python",
   "pygments_lexer": "ipython3",
   "version": "3.11.4"
  }
 },
 "nbformat": 4,
 "nbformat_minor": 5
}
