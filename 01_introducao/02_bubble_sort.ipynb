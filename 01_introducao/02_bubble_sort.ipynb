{
 "cells": [
  {
   "cell_type": "markdown",
   "id": "09005bc5",
   "metadata": {},
   "source": [
    "# Bubble Sort"
   ]
  },
  {
   "cell_type": "markdown",
   "id": "8daff0a4",
   "metadata": {},
   "source": [
    "Bubble Sort é um algoritmo de ordenação simples que funciona comparando cada elemento com o próximo, e os troca de lugar se eles estiverem na ordem incorreta. O algoritmo repete esse processo várias vezes, até que todos os elementos estejam ordenados. A cada passagem, o maior elemento \"flutua\" para o final do array, como uma bolha, dando origem ao nome do algoritmo."
   ]
  },
  {
   "cell_type": "markdown",
   "id": "d2be2473",
   "metadata": {},
   "source": [
    "## Pseudocódigo"
   ]
  },
  {
   "cell_type": "raw",
   "id": "ab0ca63f",
   "metadata": {},
   "source": [
    "Inicie\n",
    "    Para cada elemento i no array de tamanho n\n",
    "        Para cada elemento j no array de tamanho n - 1\n",
    "            Se o elemento i for maior que o elemento j\n",
    "                Troque os elementos i e j\n",
    "    Exiba o array ordenado\n",
    "Fim "
   ]
  },
  {
   "cell_type": "raw",
   "id": "b86aa08c",
   "metadata": {},
   "source": [
    "# Considere esta lista como exemplo para ordenação com o Bubble Sort\n",
    "lista = [6, 3, 12, 7]"
   ]
  },
  {
   "cell_type": "raw",
   "id": "6a3f1406",
   "metadata": {},
   "source": [
    "# Primeira passada do algoritmo (troca os elementos 6 e 3 de lugar)\n",
    "lista = [3, 6, 12, 7]"
   ]
  },
  {
   "cell_type": "raw",
   "id": "8cec4081",
   "metadata": {},
   "source": [
    "# Terceira passada do algoritmo (troca os elemtnso 12 e 7 de lugar)\n",
    "lista = [3, 6, 7, 12]"
   ]
  },
  {
   "cell_type": "code",
   "execution_count": 9,
   "id": "a5271263",
   "metadata": {},
   "outputs": [],
   "source": [
    "lista = [6, 7, 8, 3, 10, 19, 4, 1, 0, 61, 30, 16, 17, 82, 29, 34, 43, 21, 11, 39, 56, 67, 12]"
   ]
  },
  {
   "cell_type": "code",
   "execution_count": 11,
   "id": "ab458b32",
   "metadata": {},
   "outputs": [],
   "source": [
    "def bubble_sort(arr):\n",
    "\n",
    "    n = len(arr)\n",
    "    \n",
    "    # Para cada elemento i do array\n",
    "    for i in range(n):\n",
    "        \n",
    "        # Para cada elemento j do array\n",
    "        for j in range(0, n - i - 1):\n",
    "            \n",
    "            # Se o elemento i for maior que o elemento j\n",
    "            if arr[j] > arr[j + 1]:\n",
    "                \n",
    "                # Troque os elementos i e j\n",
    "                arr[j], arr[j + 1] = arr[j + 1], arr[j]\n",
    "                \n",
    "    return arr"
   ]
  },
  {
   "cell_type": "code",
   "execution_count": 12,
   "id": "77f44920",
   "metadata": {},
   "outputs": [
    {
     "name": "stdout",
     "output_type": "stream",
     "text": [
      "[0, 1, 3, 4, 6, 7, 8, 10, 11, 12, 16, 17, 19, 21, 29, 30, 34, 39, 43, 56, 61, 67, 82]\n"
     ]
    }
   ],
   "source": [
    "print(bubble_sort(lista))"
   ]
  },
  {
   "cell_type": "code",
   "execution_count": null,
   "id": "b26db2e4",
   "metadata": {},
   "outputs": [],
   "source": []
  }
 ],
 "metadata": {
  "kernelspec": {
   "display_name": "Python 3 (ipykernel)",
   "language": "python",
   "name": "python3"
  },
  "language_info": {
   "codemirror_mode": {
    "name": "ipython",
    "version": 3
   },
   "file_extension": ".py",
   "mimetype": "text/x-python",
   "name": "python",
   "nbconvert_exporter": "python",
   "pygments_lexer": "ipython3",
   "version": "3.11.4"
  }
 },
 "nbformat": 4,
 "nbformat_minor": 5
}
