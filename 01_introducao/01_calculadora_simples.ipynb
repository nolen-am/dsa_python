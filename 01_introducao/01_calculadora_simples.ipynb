{
 "cells": [
  {
   "cell_type": "markdown",
   "id": "30f85c66",
   "metadata": {},
   "source": [
    "# Calculadora Simples"
   ]
  },
  {
   "cell_type": "markdown",
   "id": "4d69aa86",
   "metadata": {},
   "source": [
    "## Pseudocódigo"
   ]
  },
  {
   "cell_type": "raw",
   "id": "a244f8f9",
   "metadata": {},
   "source": [
    "Inicie\n",
    "    Exiba \"Bem-vindo à Calculadora\"\n",
    "    Peça para o usuário inserir o primeiro número\n",
    "    Armazene o primeiro número em uma variável\n",
    "    Peça para o usuário inserir o segundo número\n",
    "    Armazene o segundo número em uma variável\n",
    "    Peça para o usuário selecionar uma operação (soma, subtração, multiplicação, divisão)\n",
    "    Armazene a operação em uma variável\n",
    "    Utilize a operação selecionada e os números armazenados para realizar o cálculo\n",
    "    Exiba o resultado\n",
    "Fim"
   ]
  },
  {
   "cell_type": "markdown",
   "id": "7a6b7aa3",
   "metadata": {},
   "source": [
    "## Convertendo o Pseudocógido em um programa Python"
   ]
  },
  {
   "cell_type": "code",
   "execution_count": 1,
   "id": "e18c5850",
   "metadata": {},
   "outputs": [
    {
     "name": "stdout",
     "output_type": "stream",
     "text": [
      "Bem-vindo à Calculadora\n"
     ]
    }
   ],
   "source": [
    "print(\"Bem-vindo à Calculadora\")"
   ]
  },
  {
   "cell_type": "code",
   "execution_count": 2,
   "id": "cdb86845",
   "metadata": {},
   "outputs": [
    {
     "name": "stdout",
     "output_type": "stream",
     "text": [
      "Insira o primeiro número: 6\n"
     ]
    }
   ],
   "source": [
    "num1 = float(input(\"Insira o primeiro número: \"))"
   ]
  },
  {
   "cell_type": "code",
   "execution_count": 3,
   "id": "c1637915",
   "metadata": {},
   "outputs": [
    {
     "name": "stdout",
     "output_type": "stream",
     "text": [
      "Insira o segundo número: 3\n"
     ]
    }
   ],
   "source": [
    "num2 = float(input(\"Insira o segundo número: \"))"
   ]
  },
  {
   "cell_type": "code",
   "execution_count": 4,
   "id": "e00dd4b3",
   "metadata": {},
   "outputs": [
    {
     "name": "stdout",
     "output_type": "stream",
     "text": [
      "Selecione uma operação (+, -, *, /): +\n"
     ]
    }
   ],
   "source": [
    "operacao = input(\"Selecione uma operação (+, -, *, /): \")"
   ]
  },
  {
   "cell_type": "code",
   "execution_count": 5,
   "id": "de112576",
   "metadata": {},
   "outputs": [
    {
     "name": "stdout",
     "output_type": "stream",
     "text": [
      "O resultado é:  9.0\n"
     ]
    }
   ],
   "source": [
    "if operacao == \"+\":\n",
    "    resultado = num1 + num2\n",
    "    print(\"O resultado é: \", resultado)\n",
    "\n",
    "elif operacao == \"-\":\n",
    "    resultado = num1 - num2\n",
    "    print(\"O resultado é: \", resultado)\n",
    "\n",
    "elif operacao == \"*\":\n",
    "    resultado = num1 * num2\n",
    "    print(\"O resultado é: \", resultado)\n",
    "    \n",
    "elif operacao == \"/\":\n",
    "    resultado = num1 / num2\n",
    "    print(\"O resultado é: \", resultado)\n",
    "    \n",
    "else:\n",
    "    print(\"Operação inválida. Por favor, digite uma operação válida.\")"
   ]
  },
  {
   "cell_type": "code",
   "execution_count": null,
   "id": "4b3de632",
   "metadata": {},
   "outputs": [],
   "source": []
  }
 ],
 "metadata": {
  "kernelspec": {
   "display_name": "Python 3 (ipykernel)",
   "language": "python",
   "name": "python3"
  },
  "language_info": {
   "codemirror_mode": {
    "name": "ipython",
    "version": 3
   },
   "file_extension": ".py",
   "mimetype": "text/x-python",
   "name": "python",
   "nbconvert_exporter": "python",
   "pygments_lexer": "ipython3",
   "version": "3.11.4"
  }
 },
 "nbformat": 4,
 "nbformat_minor": 5
}
