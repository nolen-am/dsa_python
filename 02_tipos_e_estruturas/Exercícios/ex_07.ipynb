{
 "cells": [
  {
   "cell_type": "markdown",
   "id": "e46b1ef7",
   "metadata": {},
   "source": [
    "# Exercício 07"
   ]
  },
  {
   "cell_type": "markdown",
   "id": "05ccae71",
   "metadata": {},
   "source": [
    "## Exercício 7 - Adicione mais um elemento ao dicionário criado no exercício anterior e imprima na tela"
   ]
  },
  {
   "cell_type": "code",
   "execution_count": 1,
   "id": "32a752cf",
   "metadata": {},
   "outputs": [],
   "source": [
    "dict = {1: \"Lenon\", 2: \"Eduardo\", 3: \"Carlos\"}"
   ]
  },
  {
   "cell_type": "code",
   "execution_count": 5,
   "id": "cd4957fa",
   "metadata": {},
   "outputs": [
    {
     "data": {
      "text/plain": [
       "{1: 'Lenon', 2: 'Eduardo', 3: 'Carlos', 4: 'Gutemberg'}"
      ]
     },
     "execution_count": 5,
     "metadata": {},
     "output_type": "execute_result"
    }
   ],
   "source": [
    "dict"
   ]
  },
  {
   "cell_type": "code",
   "execution_count": 3,
   "id": "824398b9",
   "metadata": {},
   "outputs": [],
   "source": [
    "dict[4] = \"Gutemberg\""
   ]
  },
  {
   "cell_type": "code",
   "execution_count": 6,
   "id": "bd9067bb",
   "metadata": {},
   "outputs": [
    {
     "data": {
      "text/plain": [
       "{1: 'Lenon', 2: 'Eduardo', 3: 'Carlos', 4: 'Gutemberg'}"
      ]
     },
     "execution_count": 6,
     "metadata": {},
     "output_type": "execute_result"
    }
   ],
   "source": [
    "dict"
   ]
  },
  {
   "cell_type": "code",
   "execution_count": null,
   "id": "2703d4d3",
   "metadata": {},
   "outputs": [],
   "source": []
  }
 ],
 "metadata": {
  "kernelspec": {
   "display_name": "Python 3 (ipykernel)",
   "language": "python",
   "name": "python3"
  },
  "language_info": {
   "codemirror_mode": {
    "name": "ipython",
    "version": 3
   },
   "file_extension": ".py",
   "mimetype": "text/x-python",
   "name": "python",
   "nbconvert_exporter": "python",
   "pygments_lexer": "ipython3",
   "version": "3.11.4"
  }
 },
 "nbformat": 4,
 "nbformat_minor": 5
}
