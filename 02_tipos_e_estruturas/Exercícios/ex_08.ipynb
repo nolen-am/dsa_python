{
 "cells": [
  {
   "cell_type": "markdown",
   "id": "ada85e26",
   "metadata": {},
   "source": [
    "# Exercício 08"
   ]
  },
  {
   "cell_type": "markdown",
   "id": "b62c581c",
   "metadata": {},
   "source": [
    "## Exercício 8 - Crie um dicionário com 3 chaves e 3 valores. \n",
    "## Um dos valores deve ser uma lista de 2 elementos numéricos. \n",
    "## Imprima o dicionário na tela."
   ]
  },
  {
   "cell_type": "code",
   "execution_count": 7,
   "id": "977d3136",
   "metadata": {},
   "outputs": [
    {
     "name": "stdout",
     "output_type": "stream",
     "text": [
      "{'nome': 'Santa Isabel', 'estado': 'SP', 'latxlong': [23.3164, 46.223623]}\n"
     ]
    }
   ],
   "source": [
    "cidade = {\"nome\": \"Santa Isabel\", \"estado\": \"SP\", \"latxlong\": [23.3164, 46.223623]}\n",
    "print(cidade)"
   ]
  },
  {
   "cell_type": "code",
   "execution_count": null,
   "id": "4a9a6831",
   "metadata": {},
   "outputs": [],
   "source": []
  }
 ],
 "metadata": {
  "kernelspec": {
   "display_name": "Python 3 (ipykernel)",
   "language": "python",
   "name": "python3"
  },
  "language_info": {
   "codemirror_mode": {
    "name": "ipython",
    "version": 3
   },
   "file_extension": ".py",
   "mimetype": "text/x-python",
   "name": "python",
   "nbconvert_exporter": "python",
   "pygments_lexer": "ipython3",
   "version": "3.11.4"
  }
 },
 "nbformat": 4,
 "nbformat_minor": 5
}
