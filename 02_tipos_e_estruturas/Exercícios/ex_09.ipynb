{
 "cells": [
  {
   "cell_type": "markdown",
   "id": "f49e0270",
   "metadata": {},
   "source": [
    "# Exercício 09"
   ]
  },
  {
   "cell_type": "markdown",
   "id": "7fe47dae",
   "metadata": {},
   "source": [
    "## Exercício 9 - Crie uma lista de 4 elementos. O primeiro elemento deve ser uma string, o segundo uma tupla de 2 elementos, o terceiro um dcionário com 2 chaves e 2 valores e o quarto elemento um valor do tipo float.\n",
    "## Imprima a lista."
   ]
  },
  {
   "cell_type": "code",
   "execution_count": 3,
   "id": "6cb5dede",
   "metadata": {},
   "outputs": [
    {
     "name": "stdout",
     "output_type": "stream",
     "text": [
      "['Via Láctea', ('Terra', 'Lua'), {'elemento1': 'oxigênio', 'elemento2': 'água'}, 12.756]\n"
     ]
    }
   ],
   "source": [
    "planetas = (\"Terra\", \"Lua\")\n",
    "terra = {\"elemento1\": \"oxigênio\", \"elemento2\": \"água\"}\n",
    "list = [\"Via Láctea\", planetas, terra, 12.756]\n",
    "\n",
    "print(list)"
   ]
  }
 ],
 "metadata": {
  "kernelspec": {
   "display_name": "Python 3 (ipykernel)",
   "language": "python",
   "name": "python3"
  },
  "language_info": {
   "codemirror_mode": {
    "name": "ipython",
    "version": 3
   },
   "file_extension": ".py",
   "mimetype": "text/x-python",
   "name": "python",
   "nbconvert_exporter": "python",
   "pygments_lexer": "ipython3",
   "version": "3.11.4"
  }
 },
 "nbformat": 4,
 "nbformat_minor": 5
}
