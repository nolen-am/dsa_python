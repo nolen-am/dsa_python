{
 "cells": [
  {
   "cell_type": "markdown",
   "id": "2a447b88",
   "metadata": {},
   "source": [
    "# Exercício 02"
   ]
  },
  {
   "cell_type": "markdown",
   "id": "f7b7cf4a",
   "metadata": {},
   "source": [
    "## Exercício 2 - Crie uma lista de 5 objetos e imprima na tela"
   ]
  },
  {
   "cell_type": "code",
   "execution_count": 3,
   "id": "991380a2",
   "metadata": {},
   "outputs": [
    {
     "name": "stdout",
     "output_type": "stream",
     "text": [
      "{'Pessoa1': 'Lenon'}\n",
      "{'Pessoa2': 'Eduardo'}\n",
      "{'Pessoa3': 'Carlos'}\n",
      "{'Pessoa4': 'Gutemberg'}\n",
      "{'Pessoa5': 'Raphael'}\n"
     ]
    }
   ],
   "source": [
    "lista_obj = [{\"Pessoa1\": \"Lenon\"}, {\"Pessoa2\": \"Eduardo\"}, {\"Pessoa3\": \"Carlos\"}, {\"Pessoa4\": \"Gutemberg\"}, {\"Pessoa5\": \"Raphael\"}]\n",
    "\n",
    "for pessoa in lista_obj:\n",
    "    print(pessoa)"
   ]
  },
  {
   "cell_type": "code",
   "execution_count": null,
   "id": "fb634192",
   "metadata": {},
   "outputs": [],
   "source": []
  }
 ],
 "metadata": {
  "kernelspec": {
   "display_name": "Python 3 (ipykernel)",
   "language": "python",
   "name": "python3"
  },
  "language_info": {
   "codemirror_mode": {
    "name": "ipython",
    "version": 3
   },
   "file_extension": ".py",
   "mimetype": "text/x-python",
   "name": "python",
   "nbconvert_exporter": "python",
   "pygments_lexer": "ipython3",
   "version": "3.11.4"
  }
 },
 "nbformat": 4,
 "nbformat_minor": 5
}
