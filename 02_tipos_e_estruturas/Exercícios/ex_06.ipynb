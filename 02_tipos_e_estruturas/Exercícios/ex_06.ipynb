{
 "cells": [
  {
   "cell_type": "markdown",
   "id": "d52d42a4",
   "metadata": {},
   "source": [
    "# Exercício 06"
   ]
  },
  {
   "cell_type": "markdown",
   "id": "b2705710",
   "metadata": {},
   "source": [
    "## Exercício 6 - Crie um dicionário com 3 chaves e 3 valores e imprima na tela"
   ]
  },
  {
   "cell_type": "code",
   "execution_count": 1,
   "id": "fb625add",
   "metadata": {},
   "outputs": [
    {
     "name": "stdout",
     "output_type": "stream",
     "text": [
      "{1: 'Lenon', 2: 'Eduardo', 3: 'Carlos'}\n"
     ]
    }
   ],
   "source": [
    "dict = {1: \"Lenon\", 2: \"Eduardo\", 3: \"Carlos\"}\n",
    "print(dict)"
   ]
  }
 ],
 "metadata": {
  "kernelspec": {
   "display_name": "Python 3 (ipykernel)",
   "language": "python",
   "name": "python3"
  },
  "language_info": {
   "codemirror_mode": {
    "name": "ipython",
    "version": 3
   },
   "file_extension": ".py",
   "mimetype": "text/x-python",
   "name": "python",
   "nbconvert_exporter": "python",
   "pygments_lexer": "ipython3",
   "version": "3.11.4"
  }
 },
 "nbformat": 4,
 "nbformat_minor": 5
}
