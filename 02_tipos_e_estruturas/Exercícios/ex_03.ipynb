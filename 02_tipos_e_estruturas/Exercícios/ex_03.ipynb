{
 "cells": [
  {
   "cell_type": "markdown",
   "id": "edbb433d",
   "metadata": {},
   "source": [
    "# Exercício 03"
   ]
  },
  {
   "cell_type": "markdown",
   "id": "333adac9",
   "metadata": {},
   "source": [
    "## Exercício 3 - Crie duas strings e concatene as duas em uma terceira string"
   ]
  },
  {
   "cell_type": "code",
   "execution_count": 3,
   "id": "d3c437f0",
   "metadata": {},
   "outputs": [
    {
     "name": "stdout",
     "output_type": "stream",
     "text": [
      "Olá Lenon!\n"
     ]
    }
   ],
   "source": [
    "string1 = \"Olá\"\n",
    "string2 = \"Lenon!\"\n",
    "string3 = string1 + \" \" + string2\n",
    "print(string3)"
   ]
  },
  {
   "cell_type": "code",
   "execution_count": null,
   "id": "23bcd48e",
   "metadata": {},
   "outputs": [],
   "source": []
  }
 ],
 "metadata": {
  "kernelspec": {
   "display_name": "Python 3 (ipykernel)",
   "language": "python",
   "name": "python3"
  },
  "language_info": {
   "codemirror_mode": {
    "name": "ipython",
    "version": 3
   },
   "file_extension": ".py",
   "mimetype": "text/x-python",
   "name": "python",
   "nbconvert_exporter": "python",
   "pygments_lexer": "ipython3",
   "version": "3.11.4"
  }
 },
 "nbformat": 4,
 "nbformat_minor": 5
}
