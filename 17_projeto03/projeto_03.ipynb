{
 "cells": [
  {
   "cell_type": "markdown",
   "id": "ad64b889",
   "metadata": {},
   "source": [
    "# Projeto 03 - Chatbot"
   ]
  },
  {
   "cell_type": "markdown",
   "id": "500f36c7",
   "metadata": {},
   "source": [
    "## O que é um Chatbot?"
   ]
  },
  {
   "cell_type": "markdown",
   "id": "205954af",
   "metadata": {},
   "source": [
    "Um chatbot é um programa de computador desenvolvido para simular conversas humanas. Ele é projetado para interagir com usuários em linguagem natural, geralmente através de interfaces de mensagens como websites, aplicativos de mensagens móveis ou plataformas de redes sociais.\n",
    "\n",
    "Os chatbots são comumente usados para lidar com consultas de atendimento ao cliente, responder perguntas frequentes, realizar tarefas de agendamento ou fornecer informações detalhadas sobre um produto ou serviço. Eles são programados para responder de maneira a simular a conversação humana e são especialmente úteis para lidar com interações repetitivas, liberando tempo para que os humanos lidem com tarefas mais complexas.\n",
    "\n",
    "Existem dois tipos principais de chatbots: \n",
    "\n",
    "- **Chatbots baseados em regras:** Esses chatbots respondem a consultas específicas e seguem um conjunto pré-definido de regras. Eles são limitados em termos de capacidade de compreensão e não conseguem lidar com perguntas fora das regras pré-definidas.\n",
    "\n",
    "<br>\n",
    "\n",
    "- **Chatbots baseados em Inteligência Artificial:** Esses chatbots utilizam técnicas de Processamento de Linguagem Natural (PLN) e Aprendizado de Máquina (Machine Learning) para entender melhor a inteção do usuário e fornecer respostas mais naturais e contextualmente relevantes. Modelos de linguagem como GPT-3 e GPT-4 da OpenAI são exemplos de tecnologia usada para construir chatbots baseados em Inteligência Artificial. O ChatGPT é um chatbot baseado em IA. Esse é o tipo de chatbot que iremos construir agora no Projeto 03.\n",
    "\n",
    "Esses bots são capazes de aprender com as interações passadas, melhorando assim a qualidade das respostas ao longo do tempo. Eles podem gerenciar uma variedade de perguntas e até mesmo participar de conversas mais complexas com os usuários."
   ]
  },
  {
   "cell_type": "markdown",
   "id": "391b9173",
   "metadata": {},
   "source": [
    "## O que é um Modelo de Linguagem"
   ]
  },
  {
   "cell_type": "markdown",
   "id": "68072fb9",
   "metadata": {},
   "source": [
    "Os modelos de linguagem são tipos de modelos de aprendizado de máquina (Machine Learning) que foram treinados para entender e gerar texto em linguagem humana. Eles são capazes de realizar várias tarefas relacionadas à linguagem, como tradução de texto, resposta a perguntas, resumo de texto, geração de texto criativo e muito mais.\n",
    "\n",
    "Os modelos de linguagem são treinados em grandes quantidades de texto para aprender padrões na linguagem humana, incluindo gramática, sintaxe, estilo, tom e até mesmo alguns fatos sobre o mundo. Uma vez treinados, eles podem gerar texto que é frequentemente indistinguível do texto escrito por humanos.\n",
    "\n",
    "Existem vários tipos de modelos de linguagem, mas os mais recentes e mais poderosos são baseados em uma técnica chamada Transformer. Esses modelos, como o GPT-4 da OpenAI, usam uma arquitetura de rede neural artificial conhecida como Transformer, que é especialmente eficaz para entender o contexto e a estrutura em sequências de texto. O Deep Learning Book traz vasto material gratuito sobre os Transformers.\n",
    "\n",
    "https://www.deeplearningbook.com.br/transformadores-o-estado-da-arte-em-processamento-de-linguagem-natural/\n",
    "\n",
    "Os modelos de linguagem são usados em assistentes de voz como a Siri e a Alexa, em chatbots, em ferramentas de escrita assistida por IA, em sistemas de tradução automática, e em muitos outros aplicativos onde a compreensão ou geração de texto é necessária."
   ]
  },
  {
   "cell_type": "markdown",
   "id": "5fee6868",
   "metadata": {},
   "source": [
    "## Generative Pre-Trained Transformer (GPT)"
   ]
  },
  {
   "cell_type": "markdown",
   "id": "56b7b7bf",
   "metadata": {},
   "source": [
    "GPT significa Generative Pre-Trained Transformer, um modelo lançado pela OpenAI em 2018. É um modelo de linguagem desenvolvido para obter texto como se fosse gerado por humanos.\n",
    "\n",
    "Baseia-se principalmente no conceito de transformadores, que forma a base de seu algoritmo. Transformer é um tipo de arquitetura de rede neural que usa uma camada de auto-atenção para identificar as relações entre diferentes partes da entrada, como palavras em uma frase. Aqui está o paper original da pesquisa sobre a camada de auto-atenção:\n",
    "\n",
    "https://arxiv.org/abs/1706.03762\n",
    "\n",
    "O GPT tem várias camadas de transformadores empilhados uns sobre os outros. Cada camada recebe a entrada da camada anterior, processa usando camadas de auto-atenção e feed-forward e, em seguida, passa sua saída para a próxima camada na arquitetura. A saída da camada final é usada para obter o texto previsto.\n",
    "\n",
    "Com base nas palavras anteriores, o FPT usa esse conceito para prever a próxima palavra em uma frase. Isso permite que o modelo aprenda os padrões e relacionamentos nos dados de um idioma para que possa gerar um texto coerente e contextualmente apropriado. Assim, o GPT tem uma variedade de aplicações em classificação de texto, tradução automática e geração de texto.\n",
    "\n",
    "Com o tempo, OpenAI lançou várias versões avançadas do GPT. Vejamos brevemente as características especiais de cada um deles:\n",
    "\n",
    "- **GPT-2**: Modelo GPT disponível gratuitamente. A seguir estão suas características:\n",
    "    - **a.** Ele foi treinado com um corpus de dados com quase 1,5 bilhão de parâmetros, permitindo que o modelo estude padrões mais complexos e gere textos mais semelhantes aos humanos.\n",
    "    - **b.** Possui um recurso para limitar o número de previsões que o impede de gerar texto inapropriado ou enganoso.\n",
    "    \n",
    "<br>\n",
    "\n",
    "- **GPT-3**: É mais robusto e avançado que o GPT 2. Alguns recursos interessantes são:\n",
    "    - **a.** Ele é treinado em 175 bilhões de parâmetros, tornando-o muito maior que o GPT-2.\n",
    "    - **b.** O OpenAI introduziu um novo recurso chamado \"aprendizagem de poucos tiros\" (\"few-shot learning\") e \"aprendizado de tiros zero\" (\"zero-shot learning\"), que permite que o modelo tenha um bom desempenho em tarefas nas quais não é treinaod. Isso é obtido por meio de pré-treinamento em conjuntos de dados muito diversos.\n",
    "    - **c.** Outro recurso chamado \"aprendizagem no contexto\" permite que o modelo aprenda com as entradas simultaneamente e ajuste suas respostas de acordo.\n",
    "    \n",
    "<br>\n",
    "    \n",
    "- **GPT-3.5**: Esta é uma versão mais avançada do GPT-3. Ele executa todas as tarefas que o GPT-3 faz, mas com maior precisão. Está incorporado no ChatGPT em versão gratuita.\n",
    "\n",
    "<br>\n",
    "\n",
    "- **GPT-4**: Esta versão mais recenete é 10 vezes mais avançada que sua antecessora. Ele é treinado para resolver problemas mais complexos e entende dialetos que são extremamente difíceis para qualquer outro modelo de linguagem entender, pois os dialetos variam de lugar para lugar. Ele pode sintetizar histórias, poemas, redações, etc., e responder aos usuários com alguma emoção.\n",
    "\n",
    "Outra característica impressionante do GPT-4 é que ele é capaz de analisar imagens. Ele pode ser usado para gerar legendas automáticas e responder a perguntas com base na imagem de entrada. No entanto, não pode sintetizar imagens por conta própria."
   ]
  },
  {
   "cell_type": "markdown",
   "id": "4a2b8ff1",
   "metadata": {},
   "source": [
    "# Implementação do Projeto - ChatBot"
   ]
  },
  {
   "cell_type": "markdown",
   "id": "5c2b9abf",
   "metadata": {},
   "source": [
    "## Passo 1"
   ]
  },
  {
   "cell_type": "markdown",
   "id": "aec95e93",
   "metadata": {},
   "source": [
    "Acessr o site da OpenAI e crie sua conta: https://openai.com\n",
    "\n",
    "Após efetuar o login, clique em Personal no canto superior direito e então clique em View API Keys. Clique no botão para criar sua chave.\n",
    "\n",
    "**Importante:** Anote a sua chave, pois nãos erá possível visualizá-la novamente. A imagem abaixo mostra a tela para você. Como a tela pode mudar, sempre use como referência a documentação oficial.\n",
    "\n",
    "https://platform.openai.com/docs/introduction/overview\n",
    "\n",
    "A OpenAI oferece um crédito no período de teste e depois disso é necessário cadastrar o cartão de crédito para poder usar os modelos. O link abaixo traz as modalidades de preços:\n",
    "\n",
    "https://openai.com/pricing#language-models\n",
    "\n",
    "A subscrição do ChatGPT e o uso da API são cobrados separadamente. Sempre use a documentação oficial da OpenAI como referência, pois mudanças podem ocorrer."
   ]
  },
  {
   "cell_type": "markdown",
   "id": "2a08bdb3",
   "metadata": {},
   "source": [
    "## Passo 2"
   ]
  },
  {
   "cell_type": "markdown",
   "id": "b72000ba",
   "metadata": {},
   "source": [
    "Abra o terminal ou prompt de comando e instale os pacotes com os comandos abaixo:\n",
    "\n",
    "\"pip install openai\"\n",
    "\"pip install requests\"\n",
    "\n",
    "Os pacotes estão disponíveis para Windows, MacOS e Linux. Sempre digite com o máximo de atenção para não errar nos comandos.\n",
    "\n",
    "Se a instalação ocorreu com sucesso, siga para o próximo passo. Claro que estamos considerando que você tem o Anaconda Python instalado, o que fizemos logo no início do curso.\n",
    "\n",
    "Aqui está a documentação oficial do pacote openai: https://pypi.org/project/openai/"
   ]
  },
  {
   "cell_type": "markdown",
   "id": "cd73467a",
   "metadata": {},
   "source": [
    "## Passo 3"
   ]
  },
  {
   "cell_type": "markdown",
   "id": "d2472332",
   "metadata": {},
   "source": [
    "Em um editor de código, acrescente o código abaixo:"
   ]
  },
  {
   "cell_type": "code",
   "execution_count": null,
   "id": "20ca0fa7",
   "metadata": {},
   "outputs": [],
   "source": [
    "# Import\n",
    "import openai\n",
    "\n",
    "# Chave\n",
    "openai.api_key = \"sua_chave_api\""
   ]
  },
  {
   "cell_type": "markdown",
   "id": "9ccfb568",
   "metadata": {},
   "source": [
    "Salve o arquivo com o nome \"chatbot.py\" em uma pasta no seu computador."
   ]
  },
  {
   "cell_type": "markdown",
   "id": "66464ec8",
   "metadata": {},
   "source": [
    "## Passo 4"
   ]
  },
  {
   "cell_type": "markdown",
   "id": "e571e419",
   "metadata": {},
   "source": [
    "Vamos seguir editando o arquivo criado e adicionar uma função python para carregar o modelo de linguagem. Adicione o código como mostrado a seguir. "
   ]
  },
  {
   "cell_type": "code",
   "execution_count": null,
   "id": "27aa07d1",
   "metadata": {},
   "outputs": [],
   "source": [
    "# Função para gerar texto a partir do modelo de linguagem\n",
    "def gera_texto(texto):\n",
    "    \n",
    "    # Obtém a resposta do modelo de linguagem\n",
    "    response = openai.Completion.create(\n",
    "        \n",
    "        # Modelo usado\n",
    "        # Outros modelos estão disponíveis em https://platform.openai.com/account/rate-limits\n",
    "        engine = \"text-davinci-003\",\n",
    "        \n",
    "        # Texto inicial da conversa com o chatbot\n",
    "        prompt = texto,\n",
    "        \n",
    "        # Comprimento da resposta gerada pelo modelo\n",
    "        max_tokens = 150,\n",
    "        \n",
    "        # Quantas conclusões gerar para cada prompt\n",
    "        n = 5,\n",
    "        \n",
    "        # O texto retornado não conterá a sequência de parada\n",
    "        stop = None,\n",
    "        \n",
    "        # Uma medida da aleatoriedade de um texto gerado pelo modelo. Seu valor está entre 0 e 1.\n",
    "        # Valores próximos a 1 significam que a saída é mais aleatória, enquanto valores próximos a 0 significam\n",
    "        # que a saída é muito identificável.\n",
    "        temperature = 0.8,\n",
    "    )\n",
    "    \n",
    "    return response.choices[0].text.strip()"
   ]
  },
  {
   "cell_type": "markdown",
   "id": "6f4c309a",
   "metadata": {},
   "source": [
    "Cada um dos parâmetros da função é customizável e você pode personalizar seu chatbot da forma que preferir. A documentação oficial oferece alguns exemplos: https://platform.openai.com/docs/api-reference/introduction"
   ]
  },
  {
   "cell_type": "markdown",
   "id": "4233c6cb",
   "metadata": {},
   "source": [
    "## Passo 5"
   ]
  },
  {
   "cell_type": "markdown",
   "id": "77d5dfe5",
   "metadata": {},
   "source": [
    "Agora vamos implementar uma função que irá interagir com o usuário, coletar o texto inicial e então executar a função criada anteriormente."
   ]
  },
  {
   "cell_type": "code",
   "execution_count": null,
   "id": "4048cbbe",
   "metadata": {},
   "outputs": [],
   "source": [
    "# Função principal do programa em Python\n",
    "def main():\n",
    "    \n",
    "    print(\"\\nBem-vindo ao GPT-4 Chatbot do Projeto 3 do Curso da Data Science Academy.\")\n",
    "    print(\"\\nwww.datascienceacademy.com.br\")\n",
    "    print(\"\\nDigite 'sair' a qualquer momento para encerrar o chat.\")\n",
    "    \n",
    "    # Loop\n",
    "    while True:\n",
    "        \n",
    "        # coleta a pergunta digitada pelo usuário.\n",
    "        user_message = input(\"\\nVocê: \")\n",
    "        \n",
    "        # Se a mensagem for \"sair\" finaliza o programa\n",
    "        if user_message.lower() == \"sair\":\n",
    "            break\n",
    "            \n",
    "        # Coloca a mensagem digitada pelo usuário na variável Python chamada gpt4_prompt\n",
    "        gpt4_prompt = f\"\\nUsuário: {user_message}\\nChatbot:\"\n",
    "        \n",
    "        # Obtém a resposta do modelo executando a função gera_texto()\n",
    "        chatbot_response = gera_texto(gpt4_prompt)\n",
    "        \n",
    "        # Imprime a resposta do chatbot\n",
    "        print(f\"\\nChatbot: {chatbot_response}\")\n",
    "        \n",
    "\n",
    "# Execução do programa (bloco main) em Python\n",
    "if __name__ == \"__main__\":\n",
    "    main()"
   ]
  },
  {
   "cell_type": "markdown",
   "id": "766c9bcc",
   "metadata": {},
   "source": [
    "## Passo 6"
   ]
  },
  {
   "cell_type": "markdown",
   "id": "eb32d726",
   "metadata": {},
   "source": [
    "Agora, basta navegarmos até o diretório onde está o nosso arquivo python e executá-lo "
   ]
  }
 ],
 "metadata": {
  "kernelspec": {
   "display_name": "Python 3 (ipykernel)",
   "language": "python",
   "name": "python3"
  },
  "language_info": {
   "codemirror_mode": {
    "name": "ipython",
    "version": 3
   },
   "file_extension": ".py",
   "mimetype": "text/x-python",
   "name": "python",
   "nbconvert_exporter": "python",
   "pygments_lexer": "ipython3",
   "version": "3.11.4"
  }
 },
 "nbformat": 4,
 "nbformat_minor": 5
}
