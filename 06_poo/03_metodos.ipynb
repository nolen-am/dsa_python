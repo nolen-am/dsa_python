{
 "cells": [
  {
   "cell_type": "markdown",
   "id": "dcd28d9a",
   "metadata": {},
   "source": [
    "# Métodos"
   ]
  },
  {
   "cell_type": "markdown",
   "id": "c1521487",
   "metadata": {},
   "source": [
    "## Trabalhando com Métodos de Classes em Python"
   ]
  },
  {
   "cell_type": "markdown",
   "id": "7173ea0e",
   "metadata": {},
   "source": [
    "Em Python, os métodos de classes são funções definidas dentro de uma classe, que realizam operações específicas em objetos criados a partir dessa classe. Os métodos de classes são usados para Implementar o comportamento dos objetos que pertencem a essa classe.\n",
    "\n",
    "Assim como as funções em Python, os métodos de classes podem receber argumentos e retornar valores. No entanto, diferentemente das funções normais, os métodos de classes sempre incluem o parâmetro self como o primeiro argumento, que é usado para se referir ao objeto atual da classe.\n",
    "\n",
    "O método init é um método especial que é chamado quando um objeto é criado a partir da classe. Este método é usado para inicializar os atributos do objeto. Outros métodos podem ser definidos para executar tarefas específicas em um objeto, como calcular valores, realizar operações de entrada e saída, ou alterar o estado do objeto."
   ]
  },
  {
   "cell_type": "code",
   "execution_count": 4,
   "id": "0f36929e",
   "metadata": {},
   "outputs": [],
   "source": [
    "# Criando uma classe chamada Circulo\n",
    "class Circulo():\n",
    "    \n",
    "    # O valor de pi é constante\n",
    "    pi = 3.14\n",
    "    \n",
    "    # Quando um objeto desta classe for criado, este método será executado e o valor default do raio será 5.\n",
    "    def __init__(self, raio = 5):\n",
    "        self.raio = raio\n",
    "        \n",
    "    # Esse método calcula a área\n",
    "    def area(self):\n",
    "        return (self.raio * self.raio) * Circulo.pi\n",
    "    \n",
    "    # Método para gerar um novo raio\n",
    "    def setRaio(self, novo_raio):\n",
    "        self.raio = novo_raio\n",
    "    \n",
    "    # Método para obter o raio do círculo\n",
    "    def getRaio(self):\n",
    "        return self.raio"
   ]
  },
  {
   "cell_type": "code",
   "execution_count": 5,
   "id": "4dbffe37",
   "metadata": {},
   "outputs": [],
   "source": [
    "# Criando o objeto circ, uma instância da classe Circulo()\n",
    "circ = Circulo()"
   ]
  },
  {
   "cell_type": "code",
   "execution_count": 6,
   "id": "ffff74fa",
   "metadata": {},
   "outputs": [
    {
     "data": {
      "text/plain": [
       "5"
      ]
     },
     "execution_count": 6,
     "metadata": {},
     "output_type": "execute_result"
    }
   ],
   "source": [
    "# Executando um método da classe Circulo\n",
    "circ.getRaio()"
   ]
  },
  {
   "cell_type": "code",
   "execution_count": 7,
   "id": "d68f7f83",
   "metadata": {},
   "outputs": [],
   "source": [
    "# Criando outro objeto chamado circ1. Uma instância da classe Circulo()\n",
    "# Agora sobrescrevendo o valor do atributo\n",
    "circ1 = Circulo(7)"
   ]
  },
  {
   "cell_type": "code",
   "execution_count": 8,
   "id": "adfa48be",
   "metadata": {},
   "outputs": [
    {
     "data": {
      "text/plain": [
       "7"
      ]
     },
     "execution_count": 8,
     "metadata": {},
     "output_type": "execute_result"
    }
   ],
   "source": [
    "circ1.getRaio()"
   ]
  },
  {
   "cell_type": "code",
   "execution_count": 9,
   "id": "a1a35093",
   "metadata": {},
   "outputs": [
    {
     "name": "stdout",
     "output_type": "stream",
     "text": [
      "O raio é: 5\n"
     ]
    }
   ],
   "source": [
    "# Imprimindo o raio\n",
    "print('O raio é:', circ.getRaio())"
   ]
  },
  {
   "cell_type": "code",
   "execution_count": 10,
   "id": "3352d958",
   "metadata": {},
   "outputs": [
    {
     "name": "stdout",
     "output_type": "stream",
     "text": [
      "Área igual a: 78.5\n"
     ]
    }
   ],
   "source": [
    "# Imprimindo a área\n",
    "print(\"Área igual a:\", circ.area())"
   ]
  },
  {
   "cell_type": "code",
   "execution_count": 11,
   "id": "4d0224bc",
   "metadata": {},
   "outputs": [
    {
     "name": "stdout",
     "output_type": "stream",
     "text": [
      "Novo raio igual a: 5\n"
     ]
    }
   ],
   "source": [
    "# Imprimindo o novo raio\n",
    "print(\"Novo raio igual a:\", circ.getRaio())"
   ]
  },
  {
   "cell_type": "code",
   "execution_count": null,
   "id": "4f6a546e",
   "metadata": {},
   "outputs": [],
   "source": []
  }
 ],
 "metadata": {
  "kernelspec": {
   "display_name": "Python 3 (ipykernel)",
   "language": "python",
   "name": "python3"
  },
  "language_info": {
   "codemirror_mode": {
    "name": "ipython",
    "version": 3
   },
   "file_extension": ".py",
   "mimetype": "text/x-python",
   "name": "python",
   "nbconvert_exporter": "python",
   "pygments_lexer": "ipython3",
   "version": "3.11.4"
  }
 },
 "nbformat": 4,
 "nbformat_minor": 5
}
